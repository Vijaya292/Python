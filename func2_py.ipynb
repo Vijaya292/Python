{
  "nbformat": 4,
  "nbformat_minor": 0,
  "metadata": {
    "colab": {
      "provenance": [],
      "authorship_tag": "ABX9TyOOxvAZke63ANon9k82+gHZ",
      "include_colab_link": true
    },
    "kernelspec": {
      "name": "python3",
      "display_name": "Python 3"
    },
    "language_info": {
      "name": "python"
    }
  },
  "cells": [
    {
      "cell_type": "markdown",
      "metadata": {
        "id": "view-in-github",
        "colab_type": "text"
      },
      "source": [
        "<a href=\"https://colab.research.google.com/github/Vijaya292/Python/blob/main/func2_py.ipynb\" target=\"_parent\"><img src=\"https://colab.research.google.com/assets/colab-badge.svg\" alt=\"Open In Colab\"/></a>"
      ]
    },
    {
      "cell_type": "code",
      "execution_count": 1,
      "metadata": {
        "colab": {
          "base_uri": "https://localhost:8080/"
        },
        "id": "BN2vp1TREoY-",
        "outputId": "be7e137d-e786-42cd-90aa-c07436286fc0"
      },
      "outputs": [
        {
          "output_type": "stream",
          "name": "stdout",
          "text": [
            "happy birthday to bro\n",
            "you are 20 years old\n",
            "happy birthday to u\n",
            "happy birthday to vijju\n",
            "you are 30 years old\n",
            "happy birthday to u\n",
            "happy birthday to emmu\n",
            "you are 40 years old\n",
            "happy birthday to u\n"
          ]
        }
      ],
      "source": [
        "def happy_birthday(name,age):\n",
        "    print(f\"happy birthday to {name}\")\n",
        "    print(f\"you are {age} years old\")\n",
        "    print(\"happy birthday to u\")\n",
        "\n",
        "happy_birthday(\"bro\",20)\n",
        "happy_birthday(\"vijju\",30)\n",
        "happy_birthday(\"emmu\",40)"
      ]
    },
    {
      "cell_type": "code",
      "source": [
        "def display_invoice(username,amount,due_date):\n",
        "    print(f\"hello{username}\")\n",
        "    print(f\"your bill of {amount} is due :{due_date}\")\n",
        "display_invoice(\"viiju\", 42,\"1\\01\")\n"
      ],
      "metadata": {
        "colab": {
          "base_uri": "https://localhost:8080/"
        },
        "id": "LoKZtZN_GdnF",
        "outputId": "3e133740-0c99-4970-b0af-9c277385039f"
      },
      "execution_count": 2,
      "outputs": [
        {
          "output_type": "stream",
          "name": "stdout",
          "text": [
            "helloviiju\n",
            "your bill of 42 is due :1\u0001\n"
          ]
        }
      ]
    },
    {
      "cell_type": "code",
      "source": [
        "def add_numbers(x,y):\n",
        "    z=x+y\n",
        "    return z\n",
        "\n",
        "def subtract_numbers(x,y):\n",
        "    z=x-y\n",
        "    return z\n",
        "\n",
        "def multiply_numbers(x,y):\n",
        "    z=x*y\n",
        "    return z\n",
        "\n",
        "def divide_numbers(x,y):\n",
        "    z=x/y\n",
        "    return z\n",
        "\n",
        "print(add_numbers(10,30))\n",
        "print(subtract_numbers(10,30))\n",
        "print(multiply_numbers(10,30))\n",
        "print(divide_numbers(10,30))"
      ],
      "metadata": {
        "colab": {
          "base_uri": "https://localhost:8080/"
        },
        "id": "EafPQw6SH4_t",
        "outputId": "67cb6c9b-769e-47f9-9741-1778dfc1334c"
      },
      "execution_count": 3,
      "outputs": [
        {
          "output_type": "stream",
          "name": "stdout",
          "text": [
            "40\n",
            "-20\n",
            "300\n",
            "0.3333333333333333\n"
          ]
        }
      ]
    },
    {
      "cell_type": "code",
      "source": [
        "def create_name(first, last):\n",
        "    first = first.capitalize()\n",
        "    last = last.capitalize()\n",
        "    return first +\" \" + last\n",
        "\n",
        "full_name = create_name(\"bro\",\"code\")\n",
        "\n",
        "print(full_name)"
      ],
      "metadata": {
        "colab": {
          "base_uri": "https://localhost:8080/"
        },
        "id": "ZWLIEhdsJ8mb",
        "outputId": "a0dc63ee-00af-4d10-f366-101b008b30eb"
      },
      "execution_count": 4,
      "outputs": [
        {
          "output_type": "stream",
          "name": "stdout",
          "text": [
            "Bro Code\n"
          ]
        }
      ]
    },
    {
      "cell_type": "code",
      "source": [
        "def my_function(child3,child2,child1):\n",
        "    print(\"the youngest child  is\" + child1)\n",
        "my_function(child1=\"viiju\",child2=\"emmu\",child3=\"devil\")"
      ],
      "metadata": {
        "colab": {
          "base_uri": "https://localhost:8080/"
        },
        "id": "ragQeWG4LIPs",
        "outputId": "f4f8f2bd-f003-40f5-d735-feb55bab5f2a"
      },
      "execution_count": 5,
      "outputs": [
        {
          "output_type": "stream",
          "name": "stdout",
          "text": [
            "the youngest child  isviiju\n"
          ]
        }
      ]
    },
    {
      "cell_type": "code",
      "source": [
        "def my_function(country = \"norway\"):\n",
        "    print(\" iam from \" + country)\n",
        "my_function(\"kingdom\")\n",
        "my_function(\"mazil\")\n",
        "my_function(\"kashir\")"
      ],
      "metadata": {
        "colab": {
          "base_uri": "https://localhost:8080/"
        },
        "id": "g5GvCjT5MUVE",
        "outputId": "bbdceaec-84fd-41cf-90e0-392a5b815641"
      },
      "execution_count": 6,
      "outputs": [
        {
          "output_type": "stream",
          "name": "stdout",
          "text": [
            " iam from kingdom\n",
            " iam from mazil\n",
            " iam from kashir\n"
          ]
        }
      ]
    },
    {
      "cell_type": "code",
      "source": [
        "def my_function(food):\n",
        "    for x in food:\n",
        "        print(x)\n",
        "fruits=[\"apple\",\"banana\",\"cherry\"]\n",
        "my_function(fruits)"
      ],
      "metadata": {
        "colab": {
          "base_uri": "https://localhost:8080/"
        },
        "id": "sn9L37YDM95h",
        "outputId": "cd03357f-376b-4804-9e9b-f884fa7883f2"
      },
      "execution_count": 7,
      "outputs": [
        {
          "output_type": "stream",
          "name": "stdout",
          "text": [
            "apple\n",
            "banana\n",
            "cherry\n"
          ]
        }
      ]
    }
  ]
}