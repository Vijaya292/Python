{
  "nbformat": 4,
  "nbformat_minor": 0,
  "metadata": {
    "colab": {
      "provenance": [],
      "authorship_tag": "ABX9TyMMFVhBWlRg96YDB7szleVd",
      "include_colab_link": true
    },
    "kernelspec": {
      "name": "python3",
      "display_name": "Python 3"
    },
    "language_info": {
      "name": "python"
    }
  },
  "cells": [
    {
      "cell_type": "markdown",
      "metadata": {
        "id": "view-in-github",
        "colab_type": "text"
      },
      "source": [
        "<a href=\"https://colab.research.google.com/github/Vijaya292/Python/blob/main/Python2.ipynb\" target=\"_parent\"><img src=\"https://colab.research.google.com/assets/colab-badge.svg\" alt=\"Open In Colab\"/></a>"
      ]
    },
    {
      "cell_type": "code",
      "execution_count": 1,
      "metadata": {
        "colab": {
          "base_uri": "https://localhost:8080/"
        },
        "id": "7NezfT7GfpTX",
        "outputId": "356ad59d-df0a-4727-fe88-7391ebfea814"
      },
      "outputs": [
        {
          "output_type": "stream",
          "name": "stdout",
          "text": [
            "\n",
            "14 x 2 = 28\n",
            "\n",
            "14 x 4 = 56\n",
            "\n",
            "14 x 6 = 84\n",
            "\n",
            "14 x 8 = 112\n",
            "\n",
            "14 x 10 = 140\n"
          ]
        }
      ],
      "source": [
        "\n",
        "Multiplication =14\n",
        "for i in range(1,11):\n",
        "    if(i%2==0):\n",
        "      print(Multiplication,'x',i,'=', Multiplication*i)\n",
        "\n",
        "    else:\n",
        "      print()"
      ]
    },
    {
      "cell_type": "code",
      "source": [
        "\n",
        "Multiplication =14\n",
        "for i in range(1,11):\n",
        "    if(i%2!=0):\n",
        "      print(Multiplication,'x',i,'=', Multiplication*i)\n",
        "\n",
        "    else:\n",
        "      print()"
      ],
      "metadata": {
        "colab": {
          "base_uri": "https://localhost:8080/"
        },
        "id": "02HjRShTfqrq",
        "outputId": "185003d8-1a12-4ba6-f693-265f4b786282"
      },
      "execution_count": 2,
      "outputs": [
        {
          "output_type": "stream",
          "name": "stdout",
          "text": [
            "14 x 1 = 14\n",
            "\n",
            "14 x 3 = 42\n",
            "\n",
            "14 x 5 = 70\n",
            "\n",
            "14 x 7 = 98\n",
            "\n",
            "14 x 9 = 126\n",
            "\n"
          ]
        }
      ]
    },
    {
      "cell_type": "code",
      "source": [
        "\n",
        "n = 5\n",
        "for i in range(n):\n",
        "    for j in range(n):\n",
        "      if i == 0 or i == n - 1 or j == 0 or j == n - 1:\n",
        "            print('*',end=' ')\n",
        "      else:\n",
        "            print(' ', end=' ')\n",
        "    print()"
      ],
      "metadata": {
        "colab": {
          "base_uri": "https://localhost:8080/"
        },
        "id": "YxnRVA7-fyCg",
        "outputId": "6738d76f-da09-48d3-e36d-d7f345703ad7"
      },
      "execution_count": 3,
      "outputs": [
        {
          "output_type": "stream",
          "name": "stdout",
          "text": [
            "* * * * * \n",
            "*       * \n",
            "*       * \n",
            "*       * \n",
            "* * * * * \n"
          ]
        }
      ]
    },
    {
      "cell_type": "code",
      "source": [
        "n=int(input())\n",
        "count=0\n",
        "for i in str(n):\n",
        "    count+=1\n",
        "print(count)"
      ],
      "metadata": {
        "colab": {
          "base_uri": "https://localhost:8080/"
        },
        "id": "RlZAIgFxf97F",
        "outputId": "9f5ed24e-8815-4d0f-a1af-6bdd0d1bf5a8"
      },
      "execution_count": 11,
      "outputs": [
        {
          "output_type": "stream",
          "name": "stdout",
          "text": [
            "123\n",
            "3\n"
          ]
        }
      ]
    },
    {
      "cell_type": "code",
      "source": [
        "n=int(input())\n",
        "count=0\n",
        "while n>0:\n",
        "     n=n/10\n",
        "     count+=1\n",
        "print(count)"
      ],
      "metadata": {
        "colab": {
          "base_uri": "https://localhost:8080/"
        },
        "id": "1DM2m2Bggitw",
        "outputId": "9a26ecfc-18f5-4646-8570-0559e7c75b6a"
      },
      "execution_count": 13,
      "outputs": [
        {
          "output_type": "stream",
          "name": "stdout",
          "text": [
            "4\n",
            "325\n"
          ]
        }
      ]
    },
    {
      "cell_type": "code",
      "source": [
        "n=int(input())\n",
        "rev=\"\"\n",
        "for digit in str(n):\n",
        "    rev=digit+rev\n",
        "print(int(rev))"
      ],
      "metadata": {
        "colab": {
          "base_uri": "https://localhost:8080/"
        },
        "id": "h2HjkixAg6dw",
        "outputId": "0cd3bf98-11c6-4ac9-e418-f417c53b0348"
      },
      "execution_count": 16,
      "outputs": [
        {
          "output_type": "stream",
          "name": "stdout",
          "text": [
            "123\n",
            "321\n"
          ]
        }
      ]
    }
  ]
}