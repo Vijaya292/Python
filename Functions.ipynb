{
  "nbformat": 4,
  "nbformat_minor": 0,
  "metadata": {
    "colab": {
      "provenance": [],
      "authorship_tag": "ABX9TyM9pF2FjlcHb5G/STzGhye/",
      "include_colab_link": true
    },
    "kernelspec": {
      "name": "python3",
      "display_name": "Python 3"
    },
    "language_info": {
      "name": "python"
    }
  },
  "cells": [
    {
      "cell_type": "markdown",
      "metadata": {
        "id": "view-in-github",
        "colab_type": "text"
      },
      "source": [
        "<a href=\"https://colab.research.google.com/github/Vijaya292/Python/blob/main/Functions.ipynb\" target=\"_parent\"><img src=\"https://colab.research.google.com/assets/colab-badge.svg\" alt=\"Open In Colab\"/></a>"
      ]
    },
    {
      "cell_type": "code",
      "execution_count": 1,
      "metadata": {
        "colab": {
          "base_uri": "https://localhost:8080/"
        },
        "id": "u_ekJVqOwSbI",
        "outputId": "00546669-469e-405d-ab16-8b5dc737c7c8"
      },
      "outputs": [
        {
          "output_type": "stream",
          "name": "stdout",
          "text": [
            "sum= 60\n",
            "average= 20.0\n"
          ]
        }
      ],
      "source": [
        "def calculate(a,b,c):\n",
        "    total=a+b+c\n",
        "    average=total/3\n",
        "    return total,average\n",
        "#calling the function\n",
        "result_sum,result_average=calculate(10,20,30)\n",
        "print(\"sum=\",result_sum)\n",
        "print(\"average=\",result_average)"
      ]
    }
  ]
}