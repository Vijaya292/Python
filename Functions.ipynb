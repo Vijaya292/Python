{
  "nbformat": 4,
  "nbformat_minor": 0,
  "metadata": {
    "colab": {
      "provenance": [],
      "authorship_tag": "ABX9TyOznSFOCvoY+xNMjYO+74fc",
      "include_colab_link": true
    },
    "kernelspec": {
      "name": "python3",
      "display_name": "Python 3"
    },
    "language_info": {
      "name": "python"
    }
  },
  "cells": [
    {
      "cell_type": "markdown",
      "metadata": {
        "id": "view-in-github",
        "colab_type": "text"
      },
      "source": [
        "<a href=\"https://colab.research.google.com/github/Vijaya292/Python/blob/main/Functions.ipynb\" target=\"_parent\"><img src=\"https://colab.research.google.com/assets/colab-badge.svg\" alt=\"Open In Colab\"/></a>"
      ]
    },
    {
      "cell_type": "code",
      "execution_count": null,
      "metadata": {
        "colab": {
          "base_uri": "https://localhost:8080/"
        },
        "id": "u_ekJVqOwSbI",
        "outputId": "00546669-469e-405d-ab16-8b5dc737c7c8"
      },
      "outputs": [
        {
          "output_type": "stream",
          "name": "stdout",
          "text": [
            "sum= 60\n",
            "average= 20.0\n"
          ]
        }
      ],
      "source": [
        "def calculate(a,b,c):\n",
        "    total=a+b+c\n",
        "    average=total/3\n",
        "    return total,average\n",
        "#calling the function\n",
        "result_sum,result_average=calculate(10,20,30)\n",
        "print(\"sum=\",result_sum)\n",
        "print(\"average=\",result_average)"
      ]
    },
    {
      "cell_type": "code",
      "source": [
        "#function with default arguments\n",
        "def greet(name=\"Guest\",messages=\"Welcome to python!\"):\n",
        "    print(f\"Hello {name},{messages}\")\n",
        "#calling function without arguments(uses default values)\n",
        "greet()\n",
        "#calling function with one argument(overrides 'name')\n",
        "greet(\"Bhuvana\")\n",
        "#calling function with both arguments(overrides default)\n",
        "greet(\"Bhuvana\",\"Good to see you learning python!\")"
      ],
      "metadata": {
        "colab": {
          "base_uri": "https://localhost:8080/"
        },
        "id": "go_1xJql1TJ6",
        "outputId": "def49375-54b5-4d8f-b3b7-c4788344d473"
      },
      "execution_count": 2,
      "outputs": [
        {
          "output_type": "stream",
          "name": "stdout",
          "text": [
            "Hello Guest,Welcome to python!\n",
            "Hello Bhuvana,Welcome to python!\n",
            "Hello Bhuvana,Good to see you learning python!\n"
          ]
        }
      ]
    },
    {
      "cell_type": "code",
      "source": [
        "def string_length(s):\n",
        "    count=0\n",
        "    for char in s:\n",
        "        count+=1\n",
        "    return count\n",
        "my_string=\"python\"\n",
        "print(\"The string is:\",my_string)\n",
        "print(\"Length of the string is:\",string_length(my_string))"
      ],
      "metadata": {
        "colab": {
          "base_uri": "https://localhost:8080/"
        },
        "id": "0hkgrYIz2dvo",
        "outputId": "26032eb9-1bf4-4fd2-e6f6-a9fdae370349"
      },
      "execution_count": 3,
      "outputs": [
        {
          "output_type": "stream",
          "name": "stdout",
          "text": [
            "The string is: python\n",
            "Length of the string is: 6\n"
          ]
        }
      ]
    }
  ]
}