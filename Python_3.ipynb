{
  "nbformat": 4,
  "nbformat_minor": 0,
  "metadata": {
    "colab": {
      "provenance": [],
      "authorship_tag": "ABX9TyPeaE/cwQSKOQpuJ8K/kUaZ",
      "include_colab_link": true
    },
    "kernelspec": {
      "name": "python3",
      "display_name": "Python 3"
    },
    "language_info": {
      "name": "python"
    }
  },
  "cells": [
    {
      "cell_type": "markdown",
      "metadata": {
        "id": "view-in-github",
        "colab_type": "text"
      },
      "source": [
        "<a href=\"https://colab.research.google.com/github/Vijaya292/Python/blob/main/Python_3.ipynb\" target=\"_parent\"><img src=\"https://colab.research.google.com/assets/colab-badge.svg\" alt=\"Open In Colab\"/></a>"
      ]
    },
    {
      "cell_type": "code",
      "execution_count": null,
      "metadata": {
        "colab": {
          "base_uri": "https://localhost:8080/"
        },
        "id": "_L-iLaNtp2Oh",
        "outputId": "357daeb1-becb-4fe7-fb55-7882de26e1aa"
      },
      "outputs": [
        {
          "output_type": "stream",
          "name": "stdout",
          "text": [
            "5\n",
            "6\n",
            "7\n",
            "2.1\n"
          ]
        }
      ],
      "source": [
        "p=int(input())\n",
        "t=int(input())\n",
        "r=int(input())\n",
        "SI=p*t*r/100\n",
        "print(SI)"
      ]
    },
    {
      "cell_type": "code",
      "source": [
        "p=int(input())\n",
        "t=int(input())\n",
        "r=int(input())\n",
        "CI=p*(1+r/100)**t-p\n",
        "print(CI)"
      ],
      "metadata": {
        "colab": {
          "base_uri": "https://localhost:8080/"
        },
        "id": "0wdfkzrNqG78",
        "outputId": "59ec5f7f-9b39-4a78-87e3-f492ad707edb"
      },
      "execution_count": null,
      "outputs": [
        {
          "output_type": "stream",
          "name": "stdout",
          "text": [
            "6\n",
            "7\n",
            "8\n",
            "4.282945612677125\n"
          ]
        }
      ]
    },
    {
      "cell_type": "code",
      "source": [
        "a=int(input())\n",
        "b=int(input())\n",
        "c=int(input())\n",
        "s=a+b+c/2\n",
        "print(s)"
      ],
      "metadata": {
        "colab": {
          "base_uri": "https://localhost:8080/"
        },
        "id": "2R-7fIdBqtW6",
        "outputId": "1c3db7b7-7dbc-47c5-90ff-2cfab5b13f6b"
      },
      "execution_count": null,
      "outputs": [
        {
          "output_type": "stream",
          "name": "stdout",
          "text": [
            "5\n",
            "6\n",
            "7\n",
            "14.5\n"
          ]
        }
      ]
    },
    {
      "cell_type": "code",
      "source": [
        "n=input(\"enter a string:\")\n",
        "vowels=\"a,e,i,o,u,A,E,I,O,U\"\n",
        "count=0\n",
        "for chr in n:\n",
        "    if chr in vowels:\n",
        "       count+=1\n",
        "print(\"No of vowels:\",count)"
      ],
      "metadata": {
        "colab": {
          "base_uri": "https://localhost:8080/"
        },
        "id": "tV61gmcCrA_P",
        "outputId": "3b436f84-cdba-4d35-9489-ad8f492ba227"
      },
      "execution_count": null,
      "outputs": [
        {
          "output_type": "stream",
          "name": "stdout",
          "text": [
            "enter a string:Vijju\n",
            "No of vowels: 2\n"
          ]
        }
      ]
    },
    {
      "cell_type": "code",
      "source": [
        "a=int(input(\"enter total units consumed:\"))\n",
        "bill=0\n",
        "if a<=100:\n",
        "   bill=a*1.5\n",
        "elif a<=300:\n",
        "   bill=(100*1.5)+(a-100)*2.5\n",
        "else:\n",
        "   bill=(100*1.5)+(200*2.5)+(a-300)*4\n",
        "print(bill)"
      ],
      "metadata": {
        "colab": {
          "base_uri": "https://localhost:8080/"
        },
        "id": "jj4G8VbDsCiR",
        "outputId": "b749080d-aaaa-4f26-c672-2dc52795f3cc"
      },
      "execution_count": null,
      "outputs": [
        {
          "output_type": "stream",
          "name": "stdout",
          "text": [
            "enter total units consumed:450\n",
            "1250.0\n"
          ]
        }
      ]
    }
  ]
}