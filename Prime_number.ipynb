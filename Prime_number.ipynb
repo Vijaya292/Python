{
  "nbformat": 4,
  "nbformat_minor": 0,
  "metadata": {
    "colab": {
      "provenance": [],
      "authorship_tag": "ABX9TyNLcoLKLB06hlOow/lWyl6x",
      "include_colab_link": true
    },
    "kernelspec": {
      "name": "python3",
      "display_name": "Python 3"
    },
    "language_info": {
      "name": "python"
    }
  },
  "cells": [
    {
      "cell_type": "markdown",
      "metadata": {
        "id": "view-in-github",
        "colab_type": "text"
      },
      "source": [
        "<a href=\"https://colab.research.google.com/github/Vijaya292/Python/blob/main/Prime_number.ipynb\" target=\"_parent\"><img src=\"https://colab.research.google.com/assets/colab-badge.svg\" alt=\"Open In Colab\"/></a>"
      ]
    },
    {
      "cell_type": "code",
      "execution_count": null,
      "metadata": {
        "colab": {
          "base_uri": "https://localhost:8080/"
        },
        "id": "ZoNhFl68sT9K",
        "outputId": "eb3d1dee-0db1-46d4-e1c0-1071c403b206"
      },
      "outputs": [
        {
          "output_type": "stream",
          "name": "stdout",
          "text": [
            "10\n",
            "2 3 5 7 "
          ]
        }
      ],
      "source": [
        "n=int(input())\n",
        "for num in range(2,n+1):\n",
        "    for i in range(2,num):\n",
        "        if(num%i==0):\n",
        "           break\n",
        "    else:\n",
        "         print(num,end=\" \")"
      ]
    },
    {
      "cell_type": "code",
      "source": [
        "n=int(input(\"enter the number\"))\n",
        "if n==1:\n",
        "    print(\"is not prime number\")\n",
        "if n>1:\n",
        "    for i in range (2,n):\n",
        "        if n%2==0:\n",
        "          print(n,\"is not prime number\")\n",
        "else:\n",
        "    print(n,\"is prime number\")"
      ],
      "metadata": {
        "colab": {
          "base_uri": "https://localhost:8080/"
        },
        "id": "HdjMq5OgzcUq",
        "outputId": "fef49858-b167-4ac5-ca4a-aded057e14af"
      },
      "execution_count": null,
      "outputs": [
        {
          "output_type": "stream",
          "name": "stdout",
          "text": [
            "enter the number4\n",
            "4 is not prime number\n",
            "4 is not prime number\n"
          ]
        }
      ]
    },
    {
      "cell_type": "code",
      "source": [
        "a=int(input(\"enter the number\"))\n",
        "if a<=1:\n",
        "    print(a,\"is not a prime number\")\n",
        "else:\n",
        "     is_prime=True\n",
        "     for i in range(2,int(a**0.5)+1):\n",
        "         if a%i==0:\n",
        "              is_prime=False\n",
        "         break\n",
        "if is_prime:\n",
        "    print(a,\"is a prime number\")\n",
        "else:\n",
        "    print(a,\"is not a prime number\")"
      ],
      "metadata": {
        "colab": {
          "base_uri": "https://localhost:8080/"
        },
        "id": "_XIt_r6Q4zNa",
        "outputId": "11cebf1f-9fa9-4b59-ad9e-15f9278f23fe"
      },
      "execution_count": null,
      "outputs": [
        {
          "output_type": "stream",
          "name": "stdout",
          "text": [
            "enter the number20\n",
            "20 is not a prime number\n"
          ]
        }
      ]
    }
  ]
}