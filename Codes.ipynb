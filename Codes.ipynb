{
  "nbformat": 4,
  "nbformat_minor": 0,
  "metadata": {
    "colab": {
      "provenance": [],
      "authorship_tag": "ABX9TyO0/2ckGD6mG6m0X+1zfupL",
      "include_colab_link": true
    },
    "kernelspec": {
      "name": "python3",
      "display_name": "Python 3"
    },
    "language_info": {
      "name": "python"
    }
  },
  "cells": [
    {
      "cell_type": "markdown",
      "metadata": {
        "id": "view-in-github",
        "colab_type": "text"
      },
      "source": [
        "<a href=\"https://colab.research.google.com/github/Vijaya292/Python/blob/main/Codes.ipynb\" target=\"_parent\"><img src=\"https://colab.research.google.com/assets/colab-badge.svg\" alt=\"Open In Colab\"/></a>"
      ]
    },
    {
      "cell_type": "code",
      "execution_count": 1,
      "metadata": {
        "colab": {
          "base_uri": "https://localhost:8080/"
        },
        "id": "QoQp24WzN1CS",
        "outputId": "bbef29f7-f0ef-42be-b851-356e6c6c99e7"
      },
      "outputs": [
        {
          "output_type": "stream",
          "name": "stdout",
          "text": [
            "43\n",
            "235791113151719212325272931333537394143"
          ]
        }
      ],
      "source": [
        "n=int(input())\n",
        "for num in range(2,n+1):\n",
        "    for i in range(2,num):\n",
        "        if(num%2==0):\n",
        "            break\n",
        "    else:\n",
        "       print(num,end=\"\")"
      ]
    },
    {
      "cell_type": "code",
      "source": [
        "n=int(input())\n",
        "a,b=0,1\n",
        "for i in range(n):\n",
        "    print(a,end=\"\")\n",
        "a,b=b,a+b"
      ],
      "metadata": {
        "colab": {
          "base_uri": "https://localhost:8080/"
        },
        "id": "uSKS_5PIQgpa",
        "outputId": "7e92247f-3316-4c32-a1f2-a9edd7ef8894"
      },
      "execution_count": 3,
      "outputs": [
        {
          "output_type": "stream",
          "name": "stdout",
          "text": [
            "12\n",
            "000000000000"
          ]
        }
      ]
    },
    {
      "cell_type": "code",
      "source": [
        "n=int(input())\n",
        "count=0\n",
        "while n>0:\n",
        "   n=n/10\n",
        "   count+=1\n",
        "print(count)"
      ],
      "metadata": {
        "colab": {
          "base_uri": "https://localhost:8080/"
        },
        "id": "ZbvpCW48RIEl",
        "outputId": "ece5aa8c-8704-45f8-ede2-50bb4132b0d2"
      },
      "execution_count": 4,
      "outputs": [
        {
          "output_type": "stream",
          "name": "stdout",
          "text": [
            "17\n",
            "325\n"
          ]
        }
      ]
    }
  ]
}