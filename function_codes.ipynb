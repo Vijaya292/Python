{
  "nbformat": 4,
  "nbformat_minor": 0,
  "metadata": {
    "colab": {
      "provenance": [],
      "authorship_tag": "ABX9TyNZyKB3EhMMYjXnj4xikxU5",
      "include_colab_link": true
    },
    "kernelspec": {
      "name": "python3",
      "display_name": "Python 3"
    },
    "language_info": {
      "name": "python"
    }
  },
  "cells": [
    {
      "cell_type": "markdown",
      "metadata": {
        "id": "view-in-github",
        "colab_type": "text"
      },
      "source": [
        "<a href=\"https://colab.research.google.com/github/Vijaya292/Python/blob/main/function_codes.ipynb\" target=\"_parent\"><img src=\"https://colab.research.google.com/assets/colab-badge.svg\" alt=\"Open In Colab\"/></a>"
      ]
    },
    {
      "cell_type": "code",
      "execution_count": 1,
      "metadata": {
        "colab": {
          "base_uri": "https://localhost:8080/"
        },
        "id": "aY4K693PrTHd",
        "outputId": "0988ba7b-7b44-404d-efd9-871c8178ac14"
      },
      "outputs": [
        {
          "output_type": "stream",
          "name": "stdout",
          "text": [
            "3\n",
            "4\n",
            "7\n"
          ]
        }
      ],
      "source": [
        "a=int(input())\n",
        "b=int(input())\n",
        "def add_twonumbers(a,b):\n",
        "    print(a+b)\n",
        "add_twonumbers(a,b)\n",
        ""
      ]
    },
    {
      "cell_type": "code",
      "source": [
        "def def_area(r=1):\n",
        "    circlearea = 3.14 * (r ** 2)\n",
        "    return circlearea\n",
        "\n",
        "radius = 2\n",
        "a = def_area(radius)\n",
        "print(a)\n"
      ],
      "metadata": {
        "colab": {
          "base_uri": "https://localhost:8080/"
        },
        "id": "jCl0x965vJ7l",
        "outputId": "1141edf1-7c26-4d1c-8061-66ff26adc353"
      },
      "execution_count": 2,
      "outputs": [
        {
          "output_type": "stream",
          "name": "stdout",
          "text": [
            "12.56\n"
          ]
        }
      ]
    },
    {
      "cell_type": "code",
      "source": [
        "import math\n",
        "\n",
        "# Function to find the roots of a quadratic equation\n",
        "def find_roots(a, b, c):\n",
        "    d = b**2 - 4*a*c  # Calculate discriminant\n",
        "\n",
        "    if d > 0:\n",
        "        root1 = (-b + math.sqrt(d)) / (2*a)\n",
        "        root2 = (-b - math.sqrt(d)) / (2*a)\n",
        "        print(\"The equation has two real roots:\")\n",
        "        print(\"Root 1 =\", root1)\n",
        "        print(\"Root 2 =\", root2)\n",
        "\n",
        "    elif d == 0:\n",
        "        root = -b / (2*a)\n",
        "        print(\"The equation has one real root:\")\n",
        "        print(\"Root =\", root)\n",
        "\n",
        "    else:\n",
        "        real = -b / (2*a)\n",
        "        imag = math.sqrt(-d) / (2*a)\n",
        "        print(\"The equation has two complex roots:\")\n",
        "        print(\"Root 1 =\", real, \"+\", imag, \"i\")\n",
        "        print(\"Root 2 =\", real, \"-\", imag, \"i\")\n",
        "\n",
        "# Get input from the user\n",
        "a = int(input(\"Enter a: \"))\n",
        "b = int(input(\"Enter b: \"))\n",
        "c = int(input(\"Enter c: \"))\n",
        "\n",
        "# Make sure it's a quadratic equation\n",
        "if a == 0:\n",
        "    print(\"a should not be 0. This is not a quadratic equation.\")\n",
        "else:\n",
        "    find_roots(a, b, c)\n",
        "\n"
      ],
      "metadata": {
        "colab": {
          "base_uri": "https://localhost:8080/"
        },
        "id": "shWvaR_dyVki",
        "outputId": "07c8f202-60f2-4235-9467-cd77c85437b4"
      },
      "execution_count": 4,
      "outputs": [
        {
          "output_type": "stream",
          "name": "stdout",
          "text": [
            "Enter a: 8\n",
            "Enter b: 7\n",
            "Enter c: 9\n",
            "The equation has two complex roots:\n",
            "Root 1 = -0.4375 + 0.9662265521087692 i\n",
            "Root 2 = -0.4375 - 0.9662265521087692 i\n"
          ]
        }
      ]
    }
  ]
}