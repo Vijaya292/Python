{
  "nbformat": 4,
  "nbformat_minor": 0,
  "metadata": {
    "colab": {
      "provenance": [],
      "authorship_tag": "ABX9TyPDYMGuqou+Azdes1KCGWGC",
      "include_colab_link": true
    },
    "kernelspec": {
      "name": "python3",
      "display_name": "Python 3"
    },
    "language_info": {
      "name": "python"
    }
  },
  "cells": [
    {
      "cell_type": "markdown",
      "metadata": {
        "id": "view-in-github",
        "colab_type": "text"
      },
      "source": [
        "<a href=\"https://colab.research.google.com/github/Vijaya292/Python/blob/main/code_1.ipynb\" target=\"_parent\"><img src=\"https://colab.research.google.com/assets/colab-badge.svg\" alt=\"Open In Colab\"/></a>"
      ]
    },
    {
      "cell_type": "code",
      "execution_count": 2,
      "metadata": {
        "colab": {
          "base_uri": "https://localhost:8080/"
        },
        "id": "PmBMEClZkMEk",
        "outputId": "6cc941fb-6e36-498a-f49d-77ccc10035f8"
      },
      "outputs": [
        {
          "output_type": "stream",
          "name": "stdout",
          "text": [
            "39\n",
            "37\n",
            "76\n"
          ]
        }
      ],
      "source": [
        "a = int(input())\n",
        "b = int(input())\n",
        "c = a+b\n",
        "print(c)"
      ]
    },
    {
      "cell_type": "code",
      "source": [
        "n = int(input())\n",
        "if(n % 2 == 0):\n",
        "    print(\"even\")\n",
        "else:\n",
        "    print(\"odd\")"
      ],
      "metadata": {
        "colab": {
          "base_uri": "https://localhost:8080/"
        },
        "id": "cFoiVyHTlKI4",
        "outputId": "4faf60a0-cb8f-4168-ba3e-9335ca1deab0"
      },
      "execution_count": 3,
      "outputs": [
        {
          "output_type": "stream",
          "name": "stdout",
          "text": [
            "697\n",
            "odd\n"
          ]
        }
      ]
    },
    {
      "cell_type": "code",
      "source": [
        "n = int(input())\n",
        "v = int(input())\n",
        "if(n>=v):\n",
        "    print(\" n is a maximum number\")\n",
        "else:\n",
        "    print(\" n is not a maximum number\")6"
      ],
      "metadata": {
        "colab": {
          "base_uri": "https://localhost:8080/"
        },
        "id": "K4iFwl5wl4Qk",
        "outputId": "3acea74c-4bbd-4883-b294-fbc15a1f917e"
      },
      "execution_count": 4,
      "outputs": [
        {
          "output_type": "stream",
          "name": "stdout",
          "text": [
            "3\n",
            "5\n",
            " n is not a maximum number\n"
          ]
        }
      ]
    },
    {
      "cell_type": "code",
      "source": [
        "n = int(input())\n",
        "v = int(input())\n",
        "w = int(input())\n",
        "if(n>=v & n>=w):\n",
        "    print(\" n is a maximum number\")\n",
        "elif(v>=n & v>=w):\n",
        "    print(\"v is a maximum number\")\n",
        "else:\n",
        "    print(\"w is a maximum number\")\n",
        ""
      ],
      "metadata": {
        "colab": {
          "base_uri": "https://localhost:8080/"
        },
        "id": "pVAjWFR5l6K2",
        "outputId": "6a1438f3-62e6-4c6e-8621-9b725d21581e"
      },
      "execution_count": 5,
      "outputs": [
        {
          "output_type": "stream",
          "name": "stdout",
          "text": [
            "7\n",
            "8\n",
            "9\n",
            "w is a maximum number\n"
          ]
        }
      ]
    },
    {
      "cell_type": "code",
      "source": [
        "year = int(input())\n",
        "if(year % 4 == 0 and year% 100 != 0 or year % 400 == 0):\n",
        "    print(\"leap year\")\n",
        "else:\n",
        "    print(\"not a leap year\")"
      ],
      "metadata": {
        "colab": {
          "base_uri": "https://localhost:8080/"
        },
        "id": "JZ12o-somxN4",
        "outputId": "d40a12f3-6619-4333-bfe4-23101af5d902"
      },
      "execution_count": 6,
      "outputs": [
        {
          "output_type": "stream",
          "name": "stdout",
          "text": [
            "2025\n",
            "not a leap year\n"
          ]
        }
      ]
    },
    {
      "cell_type": "code",
      "source": [
        "n = int(input())\n",
        "if n<=0:\n",
        "    print(\"factorial does not exist negative numbers\")\n",
        "else:\n",
        "    factorial = 1\n",
        "    for i in range(1 ,n + 1):\n",
        "        factorial = factorial * i\n",
        "        print(\"factoroial\")"
      ],
      "metadata": {
        "colab": {
          "base_uri": "https://localhost:8080/"
        },
        "id": "p4nHL6Cdnk3-",
        "outputId": "cac6e35c-a747-4737-f693-30ccfe4fe4eb"
      },
      "execution_count": 7,
      "outputs": [
        {
          "output_type": "stream",
          "name": "stdout",
          "text": [
            "5\n",
            "factoroial\n",
            "factoroial\n",
            "factoroial\n",
            "factoroial\n",
            "factoroial\n"
          ]
        }
      ]
    },
    {
      "cell_type": "code",
      "source": [
        "n = int(input())\n",
        "for num in range(2 , n + 1):\n",
        "    for i in range(2 , num):\n",
        "        if(num % i == 0):\n",
        "            break\n",
        "    else:\n",
        "        print(num , end =\" \")"
      ],
      "metadata": {
        "colab": {
          "base_uri": "https://localhost:8080/"
        },
        "id": "LgQbkGP6oeCk",
        "outputId": "01a5ec31-6922-4a38-d9a1-0d93d38c9c3c"
      },
      "execution_count": 8,
      "outputs": [
        {
          "output_type": "stream",
          "name": "stdout",
          "text": [
            "9\n",
            "2 3 5 7 "
          ]
        }
      ]
    },
    {
      "cell_type": "code",
      "source": [
        "n = int(input())\n",
        "for i in range(1 , 11 ):\n",
        "    print(n ,\"*\", i ,\"=\", n * i)"
      ],
      "metadata": {
        "colab": {
          "base_uri": "https://localhost:8080/"
        },
        "id": "z5MsTuKPpqGo",
        "outputId": "b1d193a7-4d4f-4ffb-9607-01c896cd7b75"
      },
      "execution_count": 9,
      "outputs": [
        {
          "output_type": "stream",
          "name": "stdout",
          "text": [
            "7\n",
            "7 * 1 = 7\n",
            "7 * 2 = 14\n",
            "7 * 3 = 21\n",
            "7 * 4 = 28\n",
            "7 * 5 = 35\n",
            "7 * 6 = 42\n",
            "7 * 7 = 49\n",
            "7 * 8 = 56\n",
            "7 * 9 = 63\n",
            "7 * 10 = 70\n"
          ]
        }
      ]
    },
    {
      "cell_type": "code",
      "source": [
        "n = int(input())\n",
        "a , b = 0, 1\n",
        "for i in range(n):\n",
        "    print(a, end = \" \")\n",
        "a , b = b, a+b"
      ],
      "metadata": {
        "colab": {
          "base_uri": "https://localhost:8080/"
        },
        "id": "B1UKvS9UqgTJ",
        "outputId": "b6a5524e-696c-4694-f378-9eb3af867956"
      },
      "execution_count": 10,
      "outputs": [
        {
          "output_type": "stream",
          "name": "stdout",
          "text": [
            "7\n",
            "0 0 0 0 0 0 0 "
          ]
        }
      ]
    },
    {
      "cell_type": "code",
      "source": [
        "n = int(input())\n",
        "sum_n = n * n + 1 // 2\n",
        "print(\"Sum of natural numbers up to\", n, \"is:\", sum_n)"
      ],
      "metadata": {
        "colab": {
          "base_uri": "https://localhost:8080/"
        },
        "id": "TUCCAieErm_b",
        "outputId": "cf41d16c-0132-4ad5-db93-c7ecd4d9ce68"
      },
      "execution_count": 11,
      "outputs": [
        {
          "output_type": "stream",
          "name": "stdout",
          "text": [
            "9\n",
            "Sum of natural numbers up to 9 is: 81\n"
          ]
        }
      ]
    }
  ]
}