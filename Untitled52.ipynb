{
  "nbformat": 4,
  "nbformat_minor": 0,
  "metadata": {
    "colab": {
      "provenance": [],
      "authorship_tag": "ABX9TyMfMyDsWk6mKkIneYo7qvrY",
      "include_colab_link": true
    },
    "kernelspec": {
      "name": "python3",
      "display_name": "Python 3"
    },
    "language_info": {
      "name": "python"
    }
  },
  "cells": [
    {
      "cell_type": "markdown",
      "metadata": {
        "id": "view-in-github",
        "colab_type": "text"
      },
      "source": [
        "<a href=\"https://colab.research.google.com/github/Vijaya292/Python/blob/main/Untitled52.ipynb\" target=\"_parent\"><img src=\"https://colab.research.google.com/assets/colab-badge.svg\" alt=\"Open In Colab\"/></a>"
      ]
    },
    {
      "cell_type": "code",
      "execution_count": 6,
      "metadata": {
        "colab": {
          "base_uri": "https://localhost:8080/"
        },
        "id": "mz4Vsz1PP1F2",
        "outputId": "00bcbb8d-9545-4885-8f25-b462af6a1225"
      },
      "outputs": [
        {
          "output_type": "stream",
          "name": "stdout",
          "text": [
            "   name  id\n",
            "0   sai  20\n",
            "1  mani  21\n"
          ]
        }
      ],
      "source": [
        "import pandas as pd\n",
        "data = {\n",
        "    \"name\" : [\"sai\",\"mani\"],\n",
        "    \"id\" : [20,21]\n",
        "}\n",
        "df = pd.DataFrame(data)\n",
        "print(df)\n"
      ]
    },
    {
      "cell_type": "code",
      "source": [
        "import pandas as pd\n",
        "data = {\n",
        "    \"name\" : [\"sai\",\"mani\",\"devi\",\"puri\",\"vijju\",\"hema\"],\n",
        "    \"id\" : [20,21,22,23,34,45]\n",
        "}\n",
        "df = pd.DataFrame(data)\n",
        "print(df.head())\n"
      ],
      "metadata": {
        "colab": {
          "base_uri": "https://localhost:8080/"
        },
        "id": "lFo8XAHgRUDe",
        "outputId": "69a02a08-8bab-46c4-fc03-4cd1651e4bb1"
      },
      "execution_count": 3,
      "outputs": [
        {
          "output_type": "stream",
          "name": "stdout",
          "text": [
            "    name  id\n",
            "0    sai  20\n",
            "1   mani  21\n",
            "2   devi  22\n",
            "3   puri  23\n",
            "4  vijju  34\n"
          ]
        }
      ]
    }
  ]
}