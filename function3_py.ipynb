{
  "nbformat": 4,
  "nbformat_minor": 0,
  "metadata": {
    "colab": {
      "provenance": [],
      "authorship_tag": "ABX9TyM1TThEE10I9rjnSRzxHYqW",
      "include_colab_link": true
    },
    "kernelspec": {
      "name": "python3",
      "display_name": "Python 3"
    },
    "language_info": {
      "name": "python"
    }
  },
  "cells": [
    {
      "cell_type": "markdown",
      "metadata": {
        "id": "view-in-github",
        "colab_type": "text"
      },
      "source": [
        "<a href=\"https://colab.research.google.com/github/Vijaya292/Python/blob/main/function3_py.ipynb\" target=\"_parent\"><img src=\"https://colab.research.google.com/assets/colab-badge.svg\" alt=\"Open In Colab\"/></a>"
      ]
    },
    {
      "cell_type": "code",
      "execution_count": 1,
      "metadata": {
        "colab": {
          "base_uri": "https://localhost:8080/"
        },
        "id": "smrDBHI00hry",
        "outputId": "2479bcc9-5a78-433c-fd1f-7ecb5ff23505"
      },
      "outputs": [
        {
          "output_type": "stream",
          "name": "stdout",
          "text": [
            "Enter a number: 37\n",
            "37 is Odd\n"
          ]
        }
      ],
      "source": [
        "def check_even_odd(number):\n",
        "    if number % 2 == 0:\n",
        "        print(f\"{number} is Even\")\n",
        "    else:\n",
        "        print(f\"{number} is Odd\")\n",
        "\n",
        "# Example usage\n",
        "num = int(input(\"Enter a number: \"))\n",
        "check_even_odd(num)\n"
      ]
    },
    {
      "cell_type": "code",
      "source": [
        "def max_threenumbers(x, y, z):\n",
        "    if x > y and x > z:\n",
        "        print(f\"{x} is the greatest element\")\n",
        "    elif y > x and y > z:\n",
        "        print(f\"{y} is the greatest element\")\n",
        "    else:\n",
        "        print(f\"{z} is the greatest element\")\n",
        "\n",
        "# Input from user\n",
        "x = int(input(\"Enter first number: \"))\n",
        "y = int(input(\"Enter second number: \"))\n",
        "z = int(input(\"Enter third number: \"))\n",
        "\n",
        "# Function call\n",
        "max_threenumbers(x, y, z)\n",
        "\n"
      ],
      "metadata": {
        "colab": {
          "base_uri": "https://localhost:8080/"
        },
        "id": "KpbWdjuv2kUf",
        "outputId": "f5703ab0-dfbb-45b9-d9eb-ec745c5d1269"
      },
      "execution_count": 6,
      "outputs": [
        {
          "output_type": "stream",
          "name": "stdout",
          "text": [
            "Enter first number: 26\n",
            "Enter second number: 57\n",
            "Enter third number: 80\n",
            "80 is the greatest element\n"
          ]
        }
      ]
    }
  ]
}