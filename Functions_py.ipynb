{
  "nbformat": 4,
  "nbformat_minor": 0,
  "metadata": {
    "colab": {
      "provenance": [],
      "authorship_tag": "ABX9TyNSs3tR6HjmQk2HOROMUQmE",
      "include_colab_link": true
    },
    "kernelspec": {
      "name": "python3",
      "display_name": "Python 3"
    },
    "language_info": {
      "name": "python"
    }
  },
  "cells": [
    {
      "cell_type": "markdown",
      "metadata": {
        "id": "view-in-github",
        "colab_type": "text"
      },
      "source": [
        "<a href=\"https://colab.research.google.com/github/Vijaya292/Python/blob/main/Functions_py.ipynb\" target=\"_parent\"><img src=\"https://colab.research.google.com/assets/colab-badge.svg\" alt=\"Open In Colab\"/></a>"
      ]
    },
    {
      "cell_type": "code",
      "execution_count": 3,
      "metadata": {
        "colab": {
          "base_uri": "https://localhost:8080/"
        },
        "id": "jU3kIcoI8tCW",
        "outputId": "c000d6ca-5d42-4372-86db-73b13124f783"
      },
      "outputs": [
        {
          "output_type": "stream",
          "name": "stdout",
          "text": [
            "original list: [10, 20, 5, 15, 30]\n",
            "Length of list: 5\n",
            "maximum element: 30\n",
            "minimum element: 5\n",
            "sum of all elements: 80\n",
            "sorted list: [5, 10, 15, 20, 30]\n"
          ]
        }
      ],
      "source": [
        "Numbers=[10,20,5,15,30]\n",
        "print(\"original list:\",Numbers)\n",
        "print(\"Length of list:\",len(Numbers))\n",
        "print(\"maximum element:\",max(Numbers))\n",
        "print(\"minimum element:\",min(Numbers))\n",
        "print(\"sum of all elements:\",sum(Numbers))\n",
        "print(\"sorted list:\",sorted(Numbers))"
      ]
    }
  ]
}