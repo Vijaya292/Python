{
  "nbformat": 4,
  "nbformat_minor": 0,
  "metadata": {
    "colab": {
      "provenance": [],
      "authorship_tag": "ABX9TyMVzFhYcB0VNypcJPsVdMf5",
      "include_colab_link": true
    },
    "kernelspec": {
      "name": "python3",
      "display_name": "Python 3"
    },
    "language_info": {
      "name": "python"
    }
  },
  "cells": [
    {
      "cell_type": "markdown",
      "metadata": {
        "id": "view-in-github",
        "colab_type": "text"
      },
      "source": [
        "<a href=\"https://colab.research.google.com/github/Vijaya292/Python/blob/main/List_Methods.ipynb\" target=\"_parent\"><img src=\"https://colab.research.google.com/assets/colab-badge.svg\" alt=\"Open In Colab\"/></a>"
      ]
    },
    {
      "cell_type": "code",
      "execution_count": 38,
      "metadata": {
        "colab": {
          "base_uri": "https://localhost:8080/"
        },
        "id": "75xGJLdT8LGM",
        "outputId": "70cf5e04-275c-4ea5-96b2-192ad3ffbf56"
      },
      "outputs": [
        {
          "output_type": "stream",
          "name": "stdout",
          "text": [
            "['apple', 'banana', 'cherry', 'orange']\n"
          ]
        }
      ],
      "source": [
        "List= ['apple', 'banana', 'cherry']\n",
        "List.append(\"orange\")\n",
        "print(List)"
      ]
    },
    {
      "cell_type": "code",
      "source": [
        "List = ['apple', 'banana', 'cherry', 'orange']\n",
        "\n",
        "List.clear()\n",
        "print(List)"
      ],
      "metadata": {
        "colab": {
          "base_uri": "https://localhost:8080/"
        },
        "id": "kDWG3sgT8WjS",
        "outputId": "063c360e-8932-4a7b-ce47-98d1ce235e84"
      },
      "execution_count": 37,
      "outputs": [
        {
          "output_type": "stream",
          "name": "stdout",
          "text": [
            "[]\n"
          ]
        }
      ]
    },
    {
      "cell_type": "code",
      "source": [
        "List=['apple','banana']\n",
        "x=List.copy()\n",
        "print (x)"
      ],
      "metadata": {
        "colab": {
          "base_uri": "https://localhost:8080/"
        },
        "id": "pZziIQSf8j4z",
        "outputId": "e01bcdac-25c7-45e4-cad5-765aa2d2dad1"
      },
      "execution_count": null,
      "outputs": [
        {
          "output_type": "stream",
          "name": "stdout",
          "text": [
            "['apple', 'banana']\n"
          ]
        }
      ]
    },
    {
      "cell_type": "code",
      "source": [
        "List=['apple','banana']\n",
        "x=List.count('banana')\n",
        "print (x)"
      ],
      "metadata": {
        "colab": {
          "base_uri": "https://localhost:8080/"
        },
        "id": "yDojRzzs8xfx",
        "outputId": "efa94d58-4d44-407c-9a8d-51ac36f850d9"
      },
      "execution_count": null,
      "outputs": [
        {
          "output_type": "stream",
          "name": "stdout",
          "text": [
            "1\n"
          ]
        }
      ]
    },
    {
      "cell_type": "code",
      "source": [
        "\n",
        "List = ['apple', 'banana', 'cherry']\n",
        "\n",
        "cars = ['Ford', 'BMW', 'Volvo']\n",
        "\n",
        "List.extend(cars)\n",
        "print(List)"
      ],
      "metadata": {
        "colab": {
          "base_uri": "https://localhost:8080/"
        },
        "id": "Vw2k7Q019VpC",
        "outputId": "189344ef-ad85-4892-84f2-d9af0e681e2f"
      },
      "execution_count": 36,
      "outputs": [
        {
          "output_type": "stream",
          "name": "stdout",
          "text": [
            "['apple', 'banana', 'cherry', 'Ford', 'BMW', 'Volvo']\n"
          ]
        }
      ]
    },
    {
      "cell_type": "code",
      "source": [
        "List=['apple','banana','cherry']\n",
        "x=List.index('cherry')\n",
        "print(x)"
      ],
      "metadata": {
        "colab": {
          "base_uri": "https://localhost:8080/"
        },
        "id": "dUcEaxd99qjx",
        "outputId": "a0f982c3-9c59-4981-839f-91ae70b4e60f"
      },
      "execution_count": null,
      "outputs": [
        {
          "output_type": "stream",
          "name": "stdout",
          "text": [
            "2\n"
          ]
        }
      ]
    },
    {
      "cell_type": "code",
      "source": [
        "\n",
        "List = ['apple', 'banana', 'cherry']\n",
        "\n",
        "List.insert(1, \"orange\")\n",
        "print(List)"
      ],
      "metadata": {
        "colab": {
          "base_uri": "https://localhost:8080/"
        },
        "id": "NN39LIPV_UHo",
        "outputId": "327497c2-82e4-4c36-b9c2-d8b18d7fb183"
      },
      "execution_count": 35,
      "outputs": [
        {
          "output_type": "stream",
          "name": "stdout",
          "text": [
            "['apple', 'orange', 'banana', 'cherry']\n"
          ]
        }
      ]
    },
    {
      "cell_type": "code",
      "source": [
        "List=['apple','banana','cherry']\n",
        "List.pop(1)\n",
        "print(List)"
      ],
      "metadata": {
        "colab": {
          "base_uri": "https://localhost:8080/"
        },
        "id": "odIMcLnM_tOD",
        "outputId": "c2d818fe-afd5-4e2e-e094-665c45953fd4"
      },
      "execution_count": 34,
      "outputs": [
        {
          "output_type": "stream",
          "name": "stdout",
          "text": [
            "['apple', 'cherry']\n"
          ]
        }
      ]
    },
    {
      "cell_type": "code",
      "source": [
        "List = ['apple', 'banana', 'cherry']\n",
        "List.remove(\"banana\")\n",
        "print(List)"
      ],
      "metadata": {
        "colab": {
          "base_uri": "https://localhost:8080/"
        },
        "id": "cB97UpqU_9s9",
        "outputId": "3e60d528-dfb7-4776-86b8-32660e721a88"
      },
      "execution_count": 40,
      "outputs": [
        {
          "output_type": "stream",
          "name": "stdout",
          "text": [
            "['apple', 'cherry']\n"
          ]
        }
      ]
    },
    {
      "cell_type": "code",
      "source": [
        "List=['apple','banana','cherry']\n",
        "List.reverse()\n",
        "print(List)"
      ],
      "metadata": {
        "colab": {
          "base_uri": "https://localhost:8080/"
        },
        "id": "RWCVri_rAXox",
        "outputId": "a9a1992e-bbda-47b0-cb3c-b7f343ba6237"
      },
      "execution_count": 32,
      "outputs": [
        {
          "output_type": "stream",
          "name": "stdout",
          "text": [
            "['cherry', 'banana', 'apple']\n"
          ]
        }
      ]
    },
    {
      "cell_type": "code",
      "source": [
        "List=[\"Ford\",\"BMW\",\"Volvo\"]\n",
        "List.sort()\n",
        "print(List)"
      ],
      "metadata": {
        "colab": {
          "base_uri": "https://localhost:8080/"
        },
        "id": "ZO0kKdCEAoAV",
        "outputId": "fdbf0bbe-6a4c-4294-b233-9259e527a5bd"
      },
      "execution_count": 33,
      "outputs": [
        {
          "output_type": "stream",
          "name": "stdout",
          "text": [
            "['BMW', 'Ford', 'Volvo']\n"
          ]
        }
      ]
    }
  ]
}