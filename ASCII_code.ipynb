{
  "nbformat": 4,
  "nbformat_minor": 0,
  "metadata": {
    "colab": {
      "provenance": [],
      "authorship_tag": "ABX9TyPKpUEy2/4gbEhLIVdrpUxv",
      "include_colab_link": true
    },
    "kernelspec": {
      "name": "python3",
      "display_name": "Python 3"
    },
    "language_info": {
      "name": "python"
    }
  },
  "cells": [
    {
      "cell_type": "markdown",
      "metadata": {
        "id": "view-in-github",
        "colab_type": "text"
      },
      "source": [
        "<a href=\"https://colab.research.google.com/github/Vijaya292/Python/blob/main/ASCII_code.ipynb\" target=\"_parent\"><img src=\"https://colab.research.google.com/assets/colab-badge.svg\" alt=\"Open In Colab\"/></a>"
      ]
    },
    {
      "cell_type": "code",
      "execution_count": 1,
      "metadata": {
        "colab": {
          "base_uri": "https://localhost:8080/"
        },
        "id": "vOFBe_sIU6dg",
        "outputId": "69c27569-85bd-4898-d10a-ed1db1a7a59d"
      },
      "outputs": [
        {
          "output_type": "stream",
          "name": "stdout",
          "text": [
            "The character for ASCII value 65 is: 'A'\n",
            "The character for ASCII value 97 is: 'a'\n"
          ]
        }
      ],
      "source": [
        "ascii_value = 65\n",
        "character = chr(ascii_value)\n",
        "print(f\"The character for ASCII value {ascii_value} is: '{character}'\")\n",
        "\n",
        "ascii_value = 97\n",
        "character = chr(ascii_value)\n",
        "print(f\"The character for ASCII value {ascii_value} is: '{character}'\")"
      ]
    }
  ]
}