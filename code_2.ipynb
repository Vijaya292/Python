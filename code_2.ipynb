{
  "nbformat": 4,
  "nbformat_minor": 0,
  "metadata": {
    "colab": {
      "provenance": [],
      "authorship_tag": "ABX9TyM3ts6mrE7VBwScyKdu2o3k",
      "include_colab_link": true
    },
    "kernelspec": {
      "name": "python3",
      "display_name": "Python 3"
    },
    "language_info": {
      "name": "python"
    }
  },
  "cells": [
    {
      "cell_type": "markdown",
      "metadata": {
        "id": "view-in-github",
        "colab_type": "text"
      },
      "source": [
        "<a href=\"https://colab.research.google.com/github/Vijaya292/Python/blob/main/code_2.ipynb\" target=\"_parent\"><img src=\"https://colab.research.google.com/assets/colab-badge.svg\" alt=\"Open In Colab\"/></a>"
      ]
    },
    {
      "cell_type": "code",
      "execution_count": 1,
      "metadata": {
        "colab": {
          "base_uri": "https://localhost:8080/"
        },
        "id": "ybr8kw8SsCkW",
        "outputId": "fec50ae0-bd77-4fb3-eae0-9b50ef26c3cb"
      },
      "outputs": [
        {
          "output_type": "stream",
          "name": "stdout",
          "text": [
            "678\n",
            "876\n"
          ]
        }
      ],
      "source": [
        "n = int(input())\n",
        "reverse_n = int(str(n)[::-1])\n",
        "print(reverse_n)"
      ]
    },
    {
      "cell_type": "code",
      "source": [
        "n = int(input())\n",
        "s = str(n)\n",
        "if(s == s[::-1]):\n",
        "    print(\"number is a palindrome\")\n",
        "else:\n",
        "    print(\"number is not a palindrme\")"
      ],
      "metadata": {
        "colab": {
          "base_uri": "https://localhost:8080/"
        },
        "id": "AYuRxdnzuIaP",
        "outputId": "608d8974-1618-4f14-f5e5-a25d97f00257"
      },
      "execution_count": 2,
      "outputs": [
        {
          "output_type": "stream",
          "name": "stdout",
          "text": [
            "123\n",
            "number is not a palindrme\n"
          ]
        }
      ]
    },
    {
      "cell_type": "code",
      "source": [
        "a = 5\n",
        "b = 10\n",
        "a , b = b , a\n",
        "print(\" a = \", a)\n",
        "print(\" b = \" , b)"
      ],
      "metadata": {
        "colab": {
          "base_uri": "https://localhost:8080/"
        },
        "id": "AdohRuTnvt1B",
        "outputId": "dfcef831-48f7-4d14-b64b-38476647887d"
      },
      "execution_count": 3,
      "outputs": [
        {
          "output_type": "stream",
          "name": "stdout",
          "text": [
            " a =  10\n",
            " b =  5\n"
          ]
        }
      ]
    },
    {
      "cell_type": "code",
      "source": [
        "p = int(input())\n",
        "r = int(input())\n",
        "t = int(input())\n",
        "SI = p * r* t // 100\n",
        "print(SI)"
      ],
      "metadata": {
        "colab": {
          "base_uri": "https://localhost:8080/"
        },
        "id": "gJrJomJ2w7YD",
        "outputId": "100011cf-2986-4aeb-f626-5e4bb95e2555"
      },
      "execution_count": 5,
      "outputs": [
        {
          "output_type": "stream",
          "name": "stdout",
          "text": [
            "70\n",
            "68\n",
            "67\n",
            "3189\n"
          ]
        }
      ]
    },
    {
      "cell_type": "code",
      "source": [
        "p = int(input())\n",
        "r = int(input())\n",
        "t = int(input())\n",
        "CI = p * 1 + r // 100 ** t - p\n",
        "print(CI)"
      ],
      "metadata": {
        "colab": {
          "base_uri": "https://localhost:8080/"
        },
        "id": "H8ZBze6qx9ei",
        "outputId": "730b4503-9bab-44c0-a357-0f36d958f120"
      },
      "execution_count": 6,
      "outputs": [
        {
          "output_type": "stream",
          "name": "stdout",
          "text": [
            "23\n",
            "34\n",
            "45\n",
            "0\n"
          ]
        }
      ]
    },
    {
      "cell_type": "code",
      "source": [
        "r = int(input())\n",
        "area = 3.14 * r**2\n",
        "print(area)"
      ],
      "metadata": {
        "colab": {
          "base_uri": "https://localhost:8080/"
        },
        "id": "yCqc00ANyeDG",
        "outputId": "b668e253-9dec-4eb5-a7e9-541ad91db7d5"
      },
      "execution_count": 7,
      "outputs": [
        {
          "output_type": "stream",
          "name": "stdout",
          "text": [
            "76\n",
            "18136.64\n"
          ]
        }
      ]
    },
    {
      "cell_type": "code",
      "source": [
        "n = int(input())\n",
        "count = 0\n",
        "for i in str(n):\n",
        "    count += 1\n",
        "    print(count)"
      ],
      "metadata": {
        "colab": {
          "base_uri": "https://localhost:8080/"
        },
        "id": "DsPwc29_z-GI",
        "outputId": "7e38780e-fc98-4ac6-db04-a55443e3e77e"
      },
      "execution_count": 9,
      "outputs": [
        {
          "output_type": "stream",
          "name": "stdout",
          "text": [
            "347870989\n",
            "1\n",
            "2\n",
            "3\n",
            "4\n",
            "5\n",
            "6\n",
            "7\n",
            "8\n",
            "9\n"
          ]
        }
      ]
    },
    {
      "cell_type": "code",
      "source": [
        "num = int(input(\"Enter a number: \"))\n",
        "n = abs(num)  # to handle negative numbers\n",
        "total = 0\n",
        "\n",
        "while n > 0:\n",
        "    digit = n % 10      # get the last digit\n",
        "    total += digit      # add it to total\n",
        "\n",
        "    n //= 10            # ree last digit\n",
        "\n",
        "print(\"Sum of digits:\", total)"
      ],
      "metadata": {
        "colab": {
          "base_uri": "https://localhost:8080/"
        },
        "id": "qXmIiM5n14No",
        "outputId": "cfbc3678-558d-403d-ec9f-cc9bb1ab1b15"
      },
      "execution_count": 10,
      "outputs": [
        {
          "output_type": "stream",
          "name": "stdout",
          "text": [
            "Enter a number: 456\n",
            "Sum of digits: 15\n"
          ]
        }
      ]
    },
    {
      "cell_type": "code",
      "source": [
        "n = float(input())\n",
        "if(n<0):\n",
        "    print(\"the number is negative number\")\n",
        "elif(n>0):\n",
        "    print(\"the nummber is positive number\")\n",
        "else:\n",
        "    print(\"the number is zero\")"
      ],
      "metadata": {
        "colab": {
          "base_uri": "https://localhost:8080/"
        },
        "id": "DFpEyyBM3Whq",
        "outputId": "df65d6fe-6816-423a-fcf4-8e327ca8560c"
      },
      "execution_count": 11,
      "outputs": [
        {
          "output_type": "stream",
          "name": "stdout",
          "text": [
            "789\n",
            "the nummber is positive number\n"
          ]
        }
      ]
    },
    {
      "cell_type": "code",
      "source": [
        "num1 = int(input())\n",
        "num2= int(input())\n",
        "a = abs(num1)\n",
        "b = abs(num2)\n",
        "\n",
        "while b != 0:\n",
        "    temp = b\n",
        "    b = a%b\n",
        "    a = temp\n",
        "print(\"HCF of\", num1, \"and\", num2, \"is:\", a)\n",
        "\n"
      ],
      "metadata": {
        "colab": {
          "base_uri": "https://localhost:8080/"
        },
        "id": "HaN-Qdj46Mkm",
        "outputId": "5dfb4b9a-1684-4686-af61-61d1adae85c7"
      },
      "execution_count": 12,
      "outputs": [
        {
          "output_type": "stream",
          "name": "stdout",
          "text": [
            "78\n",
            "58\n",
            "HCF of 78 and 58 is: 2\n"
          ]
        }
      ]
    },
    {
      "cell_type": "code",
      "source": [
        "num1 = int(input())\n",
        "num2= int(input())\n",
        "a = abs(num1)\n",
        "b = abs(num2)\n",
        "\n",
        "while b != 0:\n",
        "    temp = b\n",
        "    b = a%b\n",
        "    a = temp\n",
        "print(\"LCF of\", num1, \"and\", num2, \"is:\", a)\n",
        "\n"
      ],
      "metadata": {
        "colab": {
          "base_uri": "https://localhost:8080/"
        },
        "id": "vM1bFtbu6YqA",
        "outputId": "71d155bf-8416-454d-eea3-6b68fa0ea024"
      },
      "execution_count": 13,
      "outputs": [
        {
          "output_type": "stream",
          "name": "stdout",
          "text": [
            "56\n",
            "35\n",
            "LCF of 56 and 35 is: 7\n"
          ]
        }
      ]
    },
    {
      "cell_type": "code",
      "source": [
        "for i in range(97,123):\n",
        "    print(chr(i) ,end = \"\")\n"
      ],
      "metadata": {
        "colab": {
          "base_uri": "https://localhost:8080/"
        },
        "id": "b45bBWX68HfH",
        "outputId": "1771f49c-ce4f-46d2-cdda-5bf49797d89c"
      },
      "execution_count": 14,
      "outputs": [
        {
          "output_type": "stream",
          "name": "stdout",
          "text": [
            "abcdefghijklmnopqrstuvwxyz"
          ]
        }
      ]
    },
    {
      "cell_type": "code",
      "source": [
        "for i in range(65,91):\n",
        "    print(chr(i) ,end = \"\")\n"
      ],
      "metadata": {
        "colab": {
          "base_uri": "https://localhost:8080/"
        },
        "id": "-tEhScLD8TIX",
        "outputId": "2903aa7f-42d7-42aa-ce41-c548f7e3c5eb"
      },
      "execution_count": 15,
      "outputs": [
        {
          "output_type": "stream",
          "name": "stdout",
          "text": [
            "ABCDEFGHIJKLMNOPQRSTUVWXYZ"
          ]
        }
      ]
    },
    {
      "cell_type": "code",
      "source": [
        "n = str(input())\n",
        "if(\"a\",\"e\",\"i\",\"o\",\"u\" and \"A\",\"E\",\"I\",\"O\",\"U\"):\n",
        "    print(\"vowels\")\n",
        "else:\n",
        "    print(\"not a vowels\")\n"
      ],
      "metadata": {
        "colab": {
          "base_uri": "https://localhost:8080/"
        },
        "id": "0fJU8YMh9aGQ",
        "outputId": "3cba8551-6144-44ba-8f7b-4984e9530723"
      },
      "execution_count": 16,
      "outputs": [
        {
          "output_type": "stream",
          "name": "stdout",
          "text": [
            "A\n",
            "vowels\n"
          ]
        }
      ]
    },
    {
      "cell_type": "code",
      "source": [
        "print(\"uppercase letters and their ASCII values :\")\n",
        "for i in range(65,91):\n",
        "  print(chr(i),\":\",i)\n",
        "print(\"\\n lowercase letters and their ASCII values :\")\n",
        "for i in range(97,123):\n",
        "  print(chr(i),\":\",i)"
      ],
      "metadata": {
        "colab": {
          "base_uri": "https://localhost:8080/"
        },
        "id": "ML24XG_W-yG9",
        "outputId": "b2b1ee6a-8126-40f7-f6e4-6ee8b1060c3f"
      },
      "execution_count": 18,
      "outputs": [
        {
          "output_type": "stream",
          "name": "stdout",
          "text": [
            "uppercase letters and their ASCII values :\n",
            "A : 65\n",
            "B : 66\n",
            "C : 67\n",
            "D : 68\n",
            "E : 69\n",
            "F : 70\n",
            "G : 71\n",
            "H : 72\n",
            "I : 73\n",
            "J : 74\n",
            "K : 75\n",
            "L : 76\n",
            "M : 77\n",
            "N : 78\n",
            "O : 79\n",
            "P : 80\n",
            "Q : 81\n",
            "R : 82\n",
            "S : 83\n",
            "T : 84\n",
            "U : 85\n",
            "V : 86\n",
            "W : 87\n",
            "X : 88\n",
            "Y : 89\n",
            "Z : 90\n",
            "\n",
            " lowercase letters and their ASCII values :\n",
            "a : 97\n",
            "b : 98\n",
            "c : 99\n",
            "d : 100\n",
            "e : 101\n",
            "f : 102\n",
            "g : 103\n",
            "h : 104\n",
            "i : 105\n",
            "j : 106\n",
            "k : 107\n",
            "l : 108\n",
            "m : 109\n",
            "n : 110\n",
            "o : 111\n",
            "p : 112\n",
            "q : 113\n",
            "r : 114\n",
            "s : 115\n",
            "t : 116\n",
            "u : 117\n",
            "v : 118\n",
            "w : 119\n",
            "x : 120\n",
            "y : 121\n",
            "z : 122\n"
          ]
        }
      ]
    },
    {
      "cell_type": "code",
      "source": [
        "total = 0\n",
        "for i in range(1,101):\n",
        "  if i%2 == 0:\n",
        "    total += i\n",
        "print(\"sum of even numbers from 1 to 101 is:\", total)"
      ],
      "metadata": {
        "colab": {
          "base_uri": "https://localhost:8080/"
        },
        "id": "mRnG8GuPAxEK",
        "outputId": "0a06e2f6-4bf2-45db-e3f2-22c3e4ed88ae"
      },
      "execution_count": 20,
      "outputs": [
        {
          "output_type": "stream",
          "name": "stdout",
          "text": [
            "sum of even numbers from 1 to 101 is: 2550\n"
          ]
        }
      ]
    }
  ]
}