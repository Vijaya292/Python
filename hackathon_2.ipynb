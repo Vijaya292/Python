{
  "nbformat": 4,
  "nbformat_minor": 0,
  "metadata": {
    "colab": {
      "provenance": [],
      "authorship_tag": "ABX9TyP3cGa+JWcawUC7Cx3iE1YC",
      "include_colab_link": true
    },
    "kernelspec": {
      "name": "python3",
      "display_name": "Python 3"
    },
    "language_info": {
      "name": "python"
    }
  },
  "cells": [
    {
      "cell_type": "markdown",
      "metadata": {
        "id": "view-in-github",
        "colab_type": "text"
      },
      "source": [
        "<a href=\"https://colab.research.google.com/github/Vijaya292/Python/blob/main/hackathon_2.ipynb\" target=\"_parent\"><img src=\"https://colab.research.google.com/assets/colab-badge.svg\" alt=\"Open In Colab\"/></a>"
      ]
    },
    {
      "cell_type": "code",
      "execution_count": 2,
      "metadata": {
        "colab": {
          "base_uri": "https://localhost:8080/"
        },
        "id": "7jRqlZ78iTuE",
        "outputId": "a0beea36-3a12-4f8c-9e99-1b9650f4b3d1"
      },
      "outputs": [
        {
          "output_type": "stream",
          "name": "stdout",
          "text": [
            "3\n",
            "1 2 3\n",
            "4 5 6\n",
            "7 8 9\n",
            "0 0 7\n",
            "0 8 0\n",
            "9 0 0\n"
          ]
        }
      ],
      "source": [
        "n = int(input())\n",
        "mat = [list(map(int,input().split()))for i in range(n)]\n",
        "rot = [[0]*n for i in range(n)]\n",
        "for i in range(n):\n",
        "  for j in range(n):\n",
        "    rot[j][n - 1- j] = mat[i][j]\n",
        "for row in rot:\n",
        "  print(*row)"
      ]
    }
  ]
}