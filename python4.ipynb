{
  "nbformat": 4,
  "nbformat_minor": 0,
  "metadata": {
    "colab": {
      "provenance": [],
      "authorship_tag": "ABX9TyNfJ3yTT7BSpPL9MghgtSEf",
      "include_colab_link": true
    },
    "kernelspec": {
      "name": "python3",
      "display_name": "Python 3"
    },
    "language_info": {
      "name": "python"
    }
  },
  "cells": [
    {
      "cell_type": "markdown",
      "metadata": {
        "id": "view-in-github",
        "colab_type": "text"
      },
      "source": [
        "<a href=\"https://colab.research.google.com/github/Vijaya292/Python/blob/main/python4.ipynb\" target=\"_parent\"><img src=\"https://colab.research.google.com/assets/colab-badge.svg\" alt=\"Open In Colab\"/></a>"
      ]
    },
    {
      "cell_type": "code",
      "execution_count": 1,
      "metadata": {
        "colab": {
          "base_uri": "https://localhost:8080/"
        },
        "id": "DIugYZDX91qI",
        "outputId": "00cdfb53-5404-40ce-fb25-ea84a1755997"
      },
      "outputs": [
        {
          "output_type": "stream",
          "name": "stdout",
          "text": [
            "Result: 32\n"
          ]
        }
      ],
      "source": [
        "a = 2\n",
        "b = 5\n",
        "\n",
        "result = 1\n",
        "for _ in range(b):\n",
        "    result *= a\n",
        "\n",
        "print(\"Result:\", result)"
      ]
    },
    {
      "cell_type": "code",
      "source": [
        "a = int(input())\n",
        "b = int(input())\n",
        "if(a>b):\n",
        "    print(\"a is largest element\")\n",
        "else:\n",
        "    print(\"b is largest element\")"
      ],
      "metadata": {
        "colab": {
          "base_uri": "https://localhost:8080/"
        },
        "id": "oyqNQ1r0-mJW",
        "outputId": "27ca6659-85b0-4bea-b461-58aef30bfa19"
      },
      "execution_count": 2,
      "outputs": [
        {
          "output_type": "stream",
          "name": "stdout",
          "text": [
            "45\n",
            "56\n",
            "b is largest element\n"
          ]
        }
      ]
    },
    {
      "cell_type": "code",
      "source": [
        "a = int(input())\n",
        "b = int(input())\n",
        "if(a<b):\n",
        "    print(\"a is smallest element\")\n",
        "else:\n",
        "    print(\"b is smallest element\")"
      ],
      "metadata": {
        "colab": {
          "base_uri": "https://localhost:8080/"
        },
        "id": "5fupmaLA-q28",
        "outputId": "c1a3be44-b036-457e-d6e2-7a6160325465"
      },
      "execution_count": 3,
      "outputs": [
        {
          "output_type": "stream",
          "name": "stdout",
          "text": [
            "100\n",
            "560\n",
            "a is smallest element\n"
          ]
        }
      ]
    },
    {
      "cell_type": "code",
      "source": [
        "def gcd(a,b):\n",
        "  if b == 0:\n",
        "    return a\n",
        "  else:\n",
        "    return(gcd(b,a%b))\n"
      ],
      "metadata": {
        "id": "piujx3s5BBdW"
      },
      "execution_count": 6,
      "outputs": []
    }
  ]
}